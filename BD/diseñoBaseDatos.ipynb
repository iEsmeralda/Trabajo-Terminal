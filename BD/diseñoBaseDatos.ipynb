{
 "cells": [
  {
   "cell_type": "markdown",
   "metadata": {
    "id": "ATn2tL3WYvvD"
   },
   "source": [
    "## Bibliotecas"
   ]
  },
  {
   "cell_type": "code",
   "execution_count": null,
   "metadata": {
    "id": "ObA-VuFVYyyg"
   },
   "outputs": [],
   "source": [
    "import os\n",
    "import shutil\n",
    "import random"
   ]
  },
  {
   "cell_type": "code",
   "execution_count": null,
   "metadata": {
    "id": "tsvnxmGvAEf1"
   },
   "outputs": [],
   "source": [
    "destino_base = \"dataset\"\n",
    "proporcion_entrenamiento = 0.7  # 70% para entrenamiento\n",
    "\n",
    "# obtener una lista de las personas en framesListos\n",
    "carpetas = os.listdir(\"framesListos\") \n",
    "personas = sorted({nombre.split('_')[0] for nombre in carpetas})  # por ejemplo p1 p2 etc\n",
    "\n",
    "# dividir las carpetas obtenidas en entrenamiento y prueba\n",
    "random.seed(7) # semilla\n",
    "random.shuffle(personas)\n",
    "indice_corte = int(len(personas) * proporcion_entrenamiento)\n",
    "personas_entrenamiento = set(personas[:indice_corte])\n",
    "personas_prueba = set(personas[indice_corte:])\n",
    "\n",
    "# movemos las carpetas a la estructura de train y test, solo si esa carpeta no existe ya en la base\n",
    "for carpeta in carpetas:\n",
    "    nombre_persona, tipo_etiqueta = carpeta.split('_')\n",
    "    conjunto_destino = \"train\" if nombre_persona in personas_entrenamiento else \"test\"\n",
    "    clase = \"mentira\" if \"mentira\" in tipo_etiqueta else \"verdad\"\n",
    "\n",
    "    ruta_origen = os.path.join(\"framesListos\", carpeta)\n",
    "    ruta_destino = os.path.join(destino_base, conjunto_destino, clase, carpeta)\n",
    "\n",
    "    if os.path.exists(ruta_destino):\n",
    "        continue\n",
    "\n",
    "    os.makedirs(os.path.dirname(ruta_destino), exist_ok=True)\n",
    "    shutil.copytree(ruta_origen, ruta_destino)"
   ]
  }
 ],
 "metadata": {
  "colab": {
   "authorship_tag": "ABX9TyPaov47Qp75zU/MhZZ1t8Np",
   "mount_file_id": "1W5fuZuI_fMepKP0GSB6Lk10YyGr5oBUR",
   "provenance": [
    {
     "file_id": "1RZkF-rE5V6Xp3X5Yehr-6ijCnyyDs_b7",
     "timestamp": 1746584882884
    }
   ]
  },
  "kernelspec": {
   "display_name": "Python 3",
   "name": "python3"
  },
  "language_info": {
   "name": "python"
  }
 },
 "nbformat": 4,
 "nbformat_minor": 0
}
