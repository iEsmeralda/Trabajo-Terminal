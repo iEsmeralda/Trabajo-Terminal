{
 "cells": [
  {
   "cell_type": "markdown",
   "metadata": {
    "id": "ATn2tL3WYvvD"
   },
   "source": [
    "## Bibliotecas"
   ]
  },
  {
   "cell_type": "code",
   "execution_count": null,
   "metadata": {},
   "outputs": [],
   "source": [
    "%pip install dlib"
   ]
  },
  {
   "cell_type": "code",
   "execution_count": null,
   "metadata": {
    "id": "ObA-VuFVYyyg"
   },
   "outputs": [],
   "source": [
    "import os\n",
    "import shutil\n",
    "import random\n",
    "import cv2\n",
    "import dlib\n",
    "import numpy as np\n",
    "import matplotlib.pyplot as plt\n",
    "import glob\n",
    "import pandas as pd\n",
    "from tqdm import tqdm\n",
    "import seaborn as sns\n",
    "from scipy.stats import shapiro"
   ]
  },
  {
   "cell_type": "markdown",
   "metadata": {
    "id": "i-BHG8D8flJj"
   },
   "source": [
    "## Detección y visualización de microexpresiones usando landmarks faciales con dlib"
   ]
  },
  {
   "cell_type": "markdown",
   "metadata": {
    "id": "Z3hU_OGk6FaM"
   },
   "source": [
    "### Configuración del modelo de detección\n",
    "Usamos el modelo **shape_predictor_68_face_landmarks.dat** de la librería dlib, la cual es una biblioteca de C++ y disponible en Python especializada en visión por computadora y machine learning. Además es compatible con otras bibliotecas como OpenCV (cv2)."
   ]
  },
  {
   "cell_type": "code",
   "execution_count": null,
   "metadata": {
    "id": "KOtV1hZ2cEFO"
   },
   "outputs": [],
   "source": [
    "predictor_path = \"shape_predictor_68_face_landmarks.dat\"\n",
    "detector = dlib.get_frontal_face_detector()\n",
    "predictor = dlib.shape_predictor(predictor_path)"
   ]
  },
  {
   "cell_type": "markdown",
   "metadata": {
    "id": "t7RHnRlB6O6p"
   },
   "source": [
    "### Función para obtener landmarks"
   ]
  },
  {
   "cell_type": "code",
   "execution_count": null,
   "metadata": {
    "id": "u4-S0cMo6N4c"
   },
   "outputs": [],
   "source": [
    "def obtener_landmarks(ruta_imagen):\n",
    "    img = cv2.imread(ruta_imagen)\n",
    "    gris = cv2.cvtColor(img, cv2.COLOR_BGR2GRAY)  # convertir la imagen (img) a escala de grises\n",
    "    rostros = detector(gris, 1)  # detecta los rostros presentes en la imagen\n",
    "    if len(rostros) == 0:\n",
    "        return img, None  # si no se detecta ningun rostro se regresa la imagen\n",
    "\n",
    "    forma = predictor(gris, rostros[0])  # detectar los landmarks del primer rostro encontrado\n",
    "    coordenadas = np.array([(p.x, p.y) for p in forma.parts()])  # convertir los puntos en un arreglo de coordenadas\n",
    "    return img, coordenadas  # regresa la imagen original y las coords de los landmarks"
   ]
  },
  {
   "cell_type": "markdown",
   "metadata": {
    "id": "YpTNeUM06XeS"
   },
   "source": [
    "### Función para extraer las distancias normalizadas\n",
    "\n",
    "El modelo **shape_predictor_68_face_landmarks.dat** etiqueta 68 puntos clave en la cara de la siguiente manera:"
   ]
  },
  {
   "cell_type": "markdown",
   "metadata": {
    "id": "KvERwuac22Tw"
   },
   "source": [
    "![image.png](data:image/png;base64,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)"
   ]
  },
  {
   "cell_type": "code",
   "execution_count": null,
   "metadata": {
    "id": "FVzFehut6Y85"
   },
   "outputs": [],
   "source": [
    "def extraer_distancias(landmarks):\n",
    "    ref = np.linalg.norm(landmarks[36] - landmarks[45])  # Distancia entre los ojos usada como referencia, debido a que varía poco con las expresiones faciales\n",
    "    d = {}\n",
    "    d[\"boca\"] = np.linalg.norm(landmarks[62] - landmarks[66]) / ref  # Apertura vertical de la boca\n",
    "    d[\"comisura\"] = np.linalg.norm(landmarks[48] - landmarks[54]) / ref  # Distancia horizontal entre los extremos de la boca\n",
    "    d[\"ojos\"] = (np.linalg.norm(landmarks[38] - landmarks[40]) + np.linalg.norm(landmarks[44] - landmarks[46])) / (2 * ref)  # Apertura vertical de los ojos\n",
    "    d[\"cejas\"] = np.linalg.norm(landmarks[21] - landmarks[22]) / ref  # Distancia entre cejas\n",
    "    d[\"nariz\"] = np.linalg.norm(landmarks[31] - landmarks[35]) / ref  # Ancho de la nariz\n",
    "    return d"
   ]
  },
  {
   "cell_type": "markdown",
   "metadata": {
    "id": "UtEVrWwZ6bB6"
   },
   "source": [
    "### Función para analizar los cambios que hay en las microexpresiones"
   ]
  },
  {
   "cell_type": "code",
   "execution_count": null,
   "metadata": {
    "id": "5v1hWYOW6f0a"
   },
   "outputs": [],
   "source": [
    "def analizar_microexpresiones(ruta_carpeta):\n",
    "    rutas_frames = sorted(glob.glob(os.path.join(ruta_carpeta, \"*.jpg\")))  # obtener todas las imagenes en la carpeta\n",
    "    if len(rutas_frames) == 0:\n",
    "        print(\"no hay imagenes\")\n",
    "        return\n",
    "\n",
    "    distancias_por_frame = []\n",
    "    imagenes = []\n",
    "    deteccion_exitosa = []  # lista para saber si se detecto un rostro en cada imagen\n",
    "\n",
    "    # recorrer todas las imagenes para detectar rostros y extraer distancias\n",
    "    for ruta in rutas_frames:\n",
    "        img, landmarks = obtener_landmarks(ruta)\n",
    "        if landmarks is None:\n",
    "            distancias_por_frame.append(None)  # si no hay rostro guardar none\n",
    "            imagenes.append(cv2.cvtColor(cv2.imread(ruta), cv2.COLOR_BGR2RGB))\n",
    "            deteccion_exitosa.append(False)  # indicar que no hubo deteccion\n",
    "        else:\n",
    "            # dibujar circulos en los landmarks detectados\n",
    "            for (x, y) in landmarks:\n",
    "                cv2.circle(img, (x, y), 2, (0, 255, 0), -1)\n",
    "            imagenes.append(cv2.cvtColor(img, cv2.COLOR_BGR2RGB))  # guardar las imagen con marcas\n",
    "            distancias_por_frame.append(extraer_distancias(landmarks))  # guardar las distancias normalizadas\n",
    "            deteccion_exitosa.append(True)  # indicar que si hubo deteccion\n",
    "\n",
    "    # obtener los nombres de las distancias que se midieron\n",
    "    etiquetas = list(distancias_por_frame[i].keys() for i in range(len(distancias_por_frame)) if distancias_por_frame[i] is not None)[0]\n",
    "    valores = {k: [] for k in etiquetas}  # crear diccionario con listas vacias para cada tipo de distancia\n",
    "    for d in distancias_por_frame:\n",
    "        for k in etiquetas:\n",
    "            valores[k].append(d[k] if d is not None else np.nan)  # llenar los valores o poner nan si no hubo deteccion\n",
    "\n",
    "    # detectar picos o cambios bruscos en cada tipo de distancia\n",
    "    picos = {}\n",
    "    for k in etiquetas:\n",
    "        serie = np.array(valores[k])  # convertir a arreglo numpy\n",
    "        delta = np.abs(np.diff(serie))  # calcular cambio absoluto entre frames consecutivos\n",
    "        umbral = np.nanstd(delta) * 2  # la función np.nanstd() calcula la desviación estándar de un arreglo ignorando los valores NaN (Not a Number).\n",
    "        # se tomo ese umbral pq en una distribución normal, aproximadamente el 95% de los datos están dentro de ±2 desviaciones estándar del promedio.\n",
    "        picos[k] = np.where(delta > umbral)[0]  # guardar indices donde el cambio fue mayor al umbral\n",
    "\n",
    "    # mostrar las imagenes en bloques de diez para observar posibles microexpresiones\n",
    "    total = len(imagenes)\n",
    "    for inicio in range(0, total, 10):\n",
    "        fin = min(inicio + 10, total)\n",
    "        fig, axs = plt.subplots(1, fin - inicio, figsize=(15, 4))\n",
    "        if fin - inicio == 1:\n",
    "            axs = [axs]\n",
    "        for i, idx in enumerate(range(inicio, fin)):\n",
    "            axs[i].imshow(imagenes[idx])\n",
    "            axs[i].axis('off')\n",
    "            if not deteccion_exitosa[idx]:\n",
    "                axs[i].set_title(f\"frame {idx+1}\\nsin rostro\", fontsize=8)\n",
    "            else:\n",
    "                marcas = [k for k in etiquetas if idx in picos[k]]  # ver si este frame fue marcado como pico\n",
    "                if marcas:\n",
    "                    axs[i].set_title(f\"frame {idx+1}\\n{' + '.join(marcas)}\", fontsize=8)\n",
    "                else:\n",
    "                    axs[i].set_title(f\"frame {idx+1}\", fontsize=8)\n",
    "        plt.tight_layout()\n",
    "        plt.show()\n",
    "        if fin < total:\n",
    "            input(f\"mostrando frames {inicio+1} a {fin} presiona enter para continuar\")\n",
    "\n",
    "    # graficar la evolucion de las distancias para cada tipo de medida\n",
    "    plt.figure(figsize=(12, 5))\n",
    "    for k in etiquetas:\n",
    "        plt.plot(valores[k], label=k)\n",
    "        for p in picos[k]:\n",
    "            plt.axvline(x=p+1, color='#faf495', linestyle='--', alpha=0.5)  # marcamos con lineas moradas los picos\n",
    "    plt.title(\"distancias faciales normalizadas\")\n",
    "    plt.xlabel(\"frame\")\n",
    "    plt.ylabel(\"distancia normalizada\")\n",
    "    plt.legend()\n",
    "    plt.grid(True)\n",
    "    plt.show()"
   ]
  },
  {
   "cell_type": "markdown",
   "metadata": {
    "id": "c5dbHAlZ8FPZ"
   },
   "source": [
    "## Análisis de distancias de regiones clave (en una sola carpeta, es decir un video)"
   ]
  },
  {
   "cell_type": "code",
   "execution_count": null,
   "metadata": {
    "colab": {
     "base_uri": "https://localhost:8080/",
     "height": 1000,
     "output_embedded_package_id": "1czlhqOpLdIJP9Se96mGpbpDoh5zTJzWM"
    },
    "executionInfo": {
     "elapsed": 63736,
     "status": "ok",
     "timestamp": 1747199027533,
     "user": {
      "displayName": "Losmas Tibios",
      "userId": "08104146957972992790"
     },
     "user_tz": 360
    },
    "id": "HiLdQLF5JWY4",
    "outputId": "2a6ee9c8-e212-4461-d421-4e704dd80170"
   },
   "outputs": [
    {
     "data": {
      "text/plain": [
       "Output hidden; open in https://colab.research.google.com to view."
      ]
     },
     "metadata": {},
     "output_type": "display_data"
    }
   ],
   "source": [
    "analizar_microexpresiones(\"dataset/train/mentira/P28_mentira1\")"
   ]
  },
  {
   "cell_type": "code",
   "execution_count": null,
   "metadata": {
    "colab": {
     "base_uri": "https://localhost:8080/",
     "height": 1000,
     "output_embedded_package_id": "18kEjUarQ_ihfUfNrGqP4GX5HClePkw8u"
    },
    "executionInfo": {
     "elapsed": 31413,
     "status": "ok",
     "timestamp": 1747199386254,
     "user": {
      "displayName": "Losmas Tibios",
      "userId": "08104146957972992790"
     },
     "user_tz": 360
    },
    "id": "bTaK0di_LdLa",
    "outputId": "e14ee655-de88-407f-af34-4da4474ef1ef"
   },
   "outputs": [
    {
     "data": {
      "text/plain": [
       "Output hidden; open in https://colab.research.google.com to view."
      ]
     },
     "metadata": {},
     "output_type": "display_data"
    }
   ],
   "source": [
    "analizar_microexpresiones(\"dataset/train/verdad/P28_verdad2\")"
   ]
  },
  {
   "cell_type": "markdown",
   "metadata": {
    "id": "uxJ0bIUaHODG"
   },
   "source": [
    "## Análisis en la base de datos (análisis general)"
   ]
  },
  {
   "cell_type": "markdown",
   "metadata": {
    "id": "sbWswIeJWVR8"
   },
   "source": [
    "### Procesar dataset para obtener landmarks"
   ]
  },
  {
   "cell_type": "code",
   "execution_count": null,
   "metadata": {
    "id": "LFMpMLzclTWt"
   },
   "outputs": [],
   "source": [
    "def procesar_dataset(ruta_base, salida_csv):\n",
    "    datos = []\n",
    "\n",
    "    for etiqueta_clase in [\"verdad\", \"mentira\"]:\n",
    "      # clases: 0 verdad y 1 mentira\n",
    "        clase = 0 if etiqueta_clase == \"verdad\" else 1\n",
    "        ruta_clase = os.path.join(ruta_base, etiqueta_clase)\n",
    "        carpetas = os.listdir(ruta_clase)\n",
    "\n",
    "        for carpeta in tqdm(carpetas, desc=f\"Procesando {etiqueta_clase}\"):\n",
    "            ruta_carpeta = os.path.join(ruta_clase, carpeta)\n",
    "            imagenes = sorted(glob.glob(os.path.join(ruta_carpeta, \"*.jpg\")))\n",
    "\n",
    "            for img_path in imagenes:\n",
    "                _, landmarks = obtener_landmarks(img_path)\n",
    "                if landmarks is not None:\n",
    "                    dist = extraer_distancias(landmarks)\n",
    "                    dist[\"frame_id\"] = os.path.basename(img_path)\n",
    "                    dist[\"etiqueta\"] = clase\n",
    "                    datos.append(dist)\n",
    "\n",
    "    df = pd.DataFrame(datos)\n",
    "    df.to_csv(salida_csv, index=False)"
   ]
  },
  {
   "cell_type": "code",
   "execution_count": null,
   "metadata": {
    "colab": {
     "base_uri": "https://localhost:8080/"
    },
    "executionInfo": {
     "elapsed": 6357955,
     "status": "ok",
     "timestamp": 1747195552860,
     "user": {
      "displayName": "Losmas Tibios",
      "userId": "08104146957972992790"
     },
     "user_tz": 360
    },
    "id": "lnkNYxVflTTv",
    "outputId": "117f3c13-4039-4ed2-e848-3c31671f3704"
   },
   "outputs": [
    {
     "name": "stderr",
     "output_type": "stream",
     "text": [
      "Procesando verdad: 100%|██████████| 192/192 [50:37<00:00, 15.82s/it]\n",
      "Procesando mentira: 100%|██████████| 213/213 [55:18<00:00, 15.58s/it]\n"
     ]
    }
   ],
   "source": [
    "ruta_dataset = \"dataset/train\"\n",
    "salida_csv = \"datos_entrenamiento.csv\"\n",
    "procesar_dataset(ruta_dataset, salida_csv)"
   ]
  },
  {
   "cell_type": "markdown",
   "metadata": {
    "id": "Rdjdcmy7YJfo"
   },
   "source": [
    "### Gráficas de caja y bigotes"
   ]
  },
  {
   "cell_type": "code",
   "execution_count": null,
   "metadata": {
    "colab": {
     "base_uri": "https://localhost:8080/",
     "height": 607
    },
    "executionInfo": {
     "elapsed": 2302,
     "status": "ok",
     "timestamp": 1747196976327,
     "user": {
      "displayName": "Losmas Tibios",
      "userId": "08104146957972992790"
     },
     "user_tz": 360
    },
    "id": "_q8vJwlDFED0",
    "outputId": "43715393-2d17-431a-b072-f90d2c099dc8"
   },
   "outputs": [
    {
     "data": {
      "image/png": "[encoded data removed]",
      "text/plain": [
       "<Figure size 1200x600 with 5 Axes>"
      ]
     },
     "metadata": {},
     "output_type": "display_data"
    }
   ],
   "source": [
    "df = pd.read_csv(\"datos_entrenamiento.csv\")\n",
    "# Renombrar clases para visualización\n",
    "df[\"etiqueta\"] = df[\"etiqueta\"].map({0: \"verdad\", 1: \"mentira\"})\n",
    "\n",
    "# Boxplot por zona facial\n",
    "plt.figure(figsize=(12, 6))\n",
    "for i, zona in enumerate([\"boca\", \"comisura\", \"ojos\", \"cejas\", \"nariz\"]):\n",
    "    plt.subplot(2, 3, i+1)\n",
    "    sns.boxplot(x=\"etiqueta\", y=zona, data=df)\n",
    "    plt.title(zona)\n",
    "plt.tight_layout()\n",
    "plt.show()"
   ]
  },
  {
   "cell_type": "markdown",
   "metadata": {
    "id": "0B5rev4EHLFG"
   },
   "source": [
    "#### Observaciones\n",
    "Podemos observar lo siguiente:\n",
    "\n",
    "- Boca\n",
    "\n",
    "Las medianas son muy similares entre las etiquetas \"verdad\" y \"mentira\", pero en ambos casos se observa una gran cantidad de valores atípicos hacia arriba. La dispersión es ligeramente mayor en las mentiras, lo que sugiere una mayor variabilidad en la apertura de la boca cuando se miente.\n",
    "\n",
    "- Comisura\n",
    "\n",
    "Tanto en verdad como en mentira las distribuciones son similares, aunque en la etiqueta \"mentira\" se aprecian algunos valores extremos más alejados hacia ambos lados, esto puede interpretarse como mayor actividad en las comisuras de los labios, posiblemente derivada de sonrisas falsas.\n",
    "\n",
    "Recordemos que desde un punto psicológico de las emociones, en las mentiras las personas a veces simulan expresiones (como sus sonrisas), pero los músculos de la boca y los ojos no se sincronizan como en una emoción genuina, es por eso que esto es un signo de mentira.\n",
    "\n",
    "- Ojos\n",
    "\n",
    "Hay una gran cantidad de valores atípicos hacia arriba en ambas etiquetas, estos se aprecian más en el caso de la mentira, lo que significa que hay una mayor apertura ocular, esto se asocia a emociones como sorpresa o incluso nerviosismo al mentir.\n",
    "\n",
    "- Cejas\n",
    "\n",
    "Ambos grupos muestran una distribución parecida, pero en las respuestas falsas se nota una ligera mayor elevación de la mediana y más dispersión hacia arriba. Esto sugiere que las cejas tienden a alzarse más durante las mentiras, lo cual puede ser interpretado como una manifestación de sorpresa fingida, duda o esfuerzo cognitivo.\n",
    "\n",
    "\n",
    "---\n",
    "\n",
    "\n",
    "Se concluye entonces que los patrones observados en la boca, comisura, ojos y cejas durante las respuestas clasificadas como mentiras muestran una mayor actividad emocional, además el hecho de que haya mayor apertura en los ojos y en la elevación de cejas durante las mentiras podrían ser indicios de una emoción repentina, reflejando un estado de mayor carga cognitiva al estar creando una historia que contar.  Al menos hasta este breve acercamiento al uso de nuestra base de datos, se apoya la idea de que la mentira provoca reacciones faciales más exageradas."
   ]
  }
 ],
 "metadata": {
  "colab": {
   "authorship_tag": "ABX9TyOZ/MfBANrxHVW0LBO6/gNl",
   "mount_file_id": "1RZkF-rE5V6Xp3X5Yehr-6ijCnyyDs_b7",
   "provenance": []
  },
  "kernelspec": {
   "display_name": "Python 3",
   "name": "python3"
  },
  "language_info": {
   "codemirror_mode": {
    "name": "ipython",
    "version": 3
   },
   "file_extension": ".py",
   "mimetype": "text/x-python",
   "name": "python",
   "nbconvert_exporter": "python",
   "pygments_lexer": "ipython3",
   "version": "3.11.9"
  }
 },
 "nbformat": 4,
 "nbformat_minor": 0
}
